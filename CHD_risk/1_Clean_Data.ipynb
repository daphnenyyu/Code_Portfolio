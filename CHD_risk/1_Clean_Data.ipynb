{
 "cells": [
  {
   "cell_type": "markdown",
   "metadata": {},
   "source": [
    "# Final Project: Risk factors for Coronary Heart Disease \n",
    "\n",
    "Dataset downloaded from Kaggle example [Behavioral Risk Factor Surveillance System](https://www.kaggle.com/datasets/cdc/behavioral-risk-factor-surveillance-system/data)\n",
    "\n",
    " - Load libraries\n",
    " - Get data from Kaggle\n",
    " - Data cleaning\n",
    "    - Variable selection \n",
    "\n",
    "\n"
   ]
  },
  {
   "cell_type": "code",
   "execution_count": null,
   "metadata": {},
   "outputs": [],
   "source": [
    "# Install required packages\n",
    "%pip install -r requirements.txt\n",
    "%reset -f"
   ]
  },
  {
   "cell_type": "code",
   "execution_count": null,
   "metadata": {},
   "outputs": [],
   "source": [
    "# Import Libraries\n",
    "import zipfile\n",
    "import os\n",
    "import numpy as np \n",
    "import pandas as pd \n",
    "import matplotlib.pyplot as plt\n",
    "import seaborn as sns\n",
    "import imblearn\n",
    "from ydata_profiling import ProfileReport\n",
    "from sqlalchemy import create_engine"
   ]
  },
  {
   "cell_type": "code",
   "execution_count": null,
   "metadata": {},
   "outputs": [],
   "source": [
    "# Unzip the data\n",
    "with zipfile.ZipFile('BRFSS.zip', 'r') as zip_ref:\n",
    "    zip_ref.extractall('data')"
   ]
  },
  {
   "cell_type": "code",
   "execution_count": null,
   "metadata": {},
   "outputs": [],
   "source": [
    "# Load each CSV into a DataFrame\n",
    "tables = []\n",
    "for f in os.listdir('data'):\n",
    "    if f.endswith('.csv'):\n",
    "        table_name = 'df'+f.replace('.csv', '')\n",
    "        file_path = os.path.join('data', f)\n",
    "        # tables[table_name] = pd.read_csv(file_path)\n",
    "        tables.append(table_name)\n",
    "        globals()[table_name] = pd.read_csv(file_path)"
   ]
  },
  {
   "cell_type": "code",
   "execution_count": null,
   "metadata": {
    "tags": []
   },
   "outputs": [],
   "source": [
    "# Load json mapping file into a dictionary\n",
    "import json\n",
    "with open('data/2015_formats.json', 'r') as file: \n",
    "    mapping = json.load(file)\n",
    "# Example: codebook for 'CVD4CRHD' ('CVDCRHD4' in .csv file)\n",
    "    # Note: variable codes in codebook and .csv files may not be the same\n",
    "mapping['CVD4CRHD']"
   ]
  },
  {
   "cell_type": "markdown",
   "metadata": {},
   "source": [
    "## Exploratory data analysis\n",
    "(of BRFSS 2015 data)"
   ]
  },
  {
   "cell_type": "code",
   "execution_count": null,
   "metadata": {},
   "outputs": [],
   "source": [
    "print(f'There are {df2015.shape[0]} rows and {df2015.shape[1]} columns in the original data set.')"
   ]
  },
  {
   "cell_type": "markdown",
   "metadata": {},
   "source": [
    "### Select target and predictor variables"
   ]
  },
  {
   "cell_type": "code",
   "execution_count": null,
   "metadata": {},
   "outputs": [],
   "source": [
    "# Create dictionary to store variables and their corresponding BRFSS code \n",
    "varname_code_mapping = {\n",
    "    # target variable\n",
    "    'chd': 'CVDCRHD4', \n",
    "    # predictor variables\n",
    "        #demographic variables\n",
    "    'sex': 'SEX', \n",
    "    'race': '_RACE_G1',\n",
    "    'age5y': '_AGEG5YR',  \n",
    "    'ever_married': 'MARITAL',\n",
    "        #socioeconomic status variables\n",
    "    'education':'_EDUCAG', \n",
    "    'income': '_INCOMG',\n",
    "    'employment': 'EMPLOY1', \n",
    "        # health variables\n",
    "    'diabetes': 'DIABETE3', \n",
    "    'hypertension': 'BPHIGH4', \n",
    "    'bmi': '_BMI5',\n",
    "        # behavioral variables\n",
    "    'smoke': '_SMOKER3',\n",
    "    'vegetable': '_VEGLT1',\n",
    "    'fruit': '_FRTLT1',\n",
    "    'binge_drink': 'DRNK3GE5',\n",
    "    'exercise': 'EXERANY2', \n",
    "}\n"
   ]
  },
  {
   "cell_type": "code",
   "execution_count": null,
   "metadata": {},
   "outputs": [],
   "source": [
    "# Take data from 2015 BFRSS data frame\n",
    "df = df2015\n",
    "\n",
    "# Record numerical variables\n",
    "numerical_variables = ['bmi', 'binge_drink']\n",
    "\n",
    "# Select variables and store in new data frame\n",
    "    # Catagorical variables are stored as strings\n",
    "    # Numerical variables are transformed as needed when imported\n",
    "dirty_df = pd.DataFrame()\n",
    "for key, code in varname_code_mapping.items(): \n",
    "    if key not in numerical_variables: \n",
    "        dirty_df[key] = df[code]\n",
    "    elif key == 'bmi':\n",
    "        # Return true values of bmi (divide by 100)\n",
    "        dirty_df[key] = df[code]/100\n",
    "    elif key == 'binge_drink': \n",
    "        dirty_df[key] = df[code].replace({88: 0, 77: np.nan, 99: np.nan})\n",
    "    \n"
   ]
  },
  {
   "cell_type": "code",
   "execution_count": null,
   "metadata": {},
   "outputs": [],
   "source": [
    "print(f'There are {dirty_df.shape[0]} rows and {dirty_df.shape[1]} columns in the selected data set.')"
   ]
  },
  {
   "cell_type": "code",
   "execution_count": null,
   "metadata": {},
   "outputs": [],
   "source": [
    "# Print overview of numerical variables\n",
    "dirty_df[numerical_variables].describe()"
   ]
  },
  {
   "cell_type": "markdown",
   "metadata": {},
   "source": [
    "## Clean Data\n",
    "\n",
    "#### - Remove unrealistic data (BMI>= 18.5)"
   ]
  },
  {
   "cell_type": "code",
   "execution_count": null,
   "metadata": {},
   "outputs": [],
   "source": [
    "# BMI is unlikely to be lower than 18.5\n",
    "dirty_df = dirty_df[dirty_df['bmi'] >= 18.5]"
   ]
  },
  {
   "cell_type": "markdown",
   "metadata": {},
   "source": [
    "#### - Recode variables"
   ]
  },
  {
   "cell_type": "code",
   "execution_count": null,
   "metadata": {},
   "outputs": [],
   "source": [
    "# Check unique codes of binary variables and print out \n",
    "# Collect binary variables need to be recoded \n",
    "binary_var = ['chd', 'sex', 'ever_married', 'diabetes', 'hypertension', 'vegetable', 'fruit', 'exercise']\n",
    "recode_binary_var = []\n",
    "for var in binary_var: \n",
    "    print(var)\n",
    "    print(dirty_df[var].unique())\n",
    "    if len(dirty_df[var].unique())>2: \n",
    "        recode_binary_var.append(var)\n",
    "print(f\"Binary variables that need to be recoded: {recode_binary_var}\")"
   ]
  },
  {
   "cell_type": "code",
   "execution_count": null,
   "metadata": {},
   "outputs": [],
   "source": [
    "\"\"\"\n",
    "Recode instructions \n",
    "Codes for 'hypertension' and 'diabetes'\n",
    " '1': \"Yes\"\n",
    " '2': '\"Yes, but female told only during pregnancy\"' -> np.nan\n",
    " '3': '\"No\"' -> '0'\n",
    " '4': '\"Told borderline high or pre-condition\"' -> np.nan\n",
    " '7': '\"Don't know/Not Sure\"' -> np.nan\n",
    " '9': '\"Refused\"' --> np.nan\n",
    "\"\"\"\n",
    "# Recode variables ['hypertension', 'diabetes'] into binary variables\n",
    "vars = ['hypertension', 'diabetes']\n",
    "for col in vars: \n",
    "    dirty_df[col]= dirty_df[col].replace({2.: np.nan, 3.: 0,  4.: np.nan, \n",
    "                                          7.: np.nan, 9.: np.nan})\n",
    "\n",
    "\"\"\"\n",
    "Codes for 'vegetable' and 'fruit'\n",
    " '1': '\"Consumed one or more times per day\"' \n",
    " '2': '\"Consumed less than one time per day\"' -> 0\n",
    " '9': '\"Don´t know, refused or missing values\" -> np.nan\n",
    "\n",
    "Codes for 'exercise' and 'chd'\n",
    " '1': '\"Yes\"'\n",
    " '2': '\"No\"' -> 0\n",
    " '7': '\"Don't know/Not sure\"'-> np.nan\n",
    " '9': '\"Refused\"' -> np.nan\n",
    "\n",
    "\n",
    "\"\"\"\n",
    "# Recode variables ['vegetable', 'fruit', 'exercise'] into binary variables\n",
    "vars = ['chd', 'vegetable', 'fruit', 'exercise']\n",
    "for col in vars: \n",
    "    dirty_df[col]= dirty_df[col].replace({2.: 0, 7.: np.nan, 9.: np.nan})\n",
    "\n",
    "\n",
    "\"\"\"\n",
    "Codes for 'ever_married'\n",
    " '1': '\"Married\"' -> 1\n",
    " '2': '\"Divorced\"' -> 1\n",
    " '3': '\"Widowed\"' -> 1\n",
    " '4': '\"Separated\"' -> 1\n",
    " '5': '\"Never married\"' -> 0\n",
    " '6': '\"A member of an unmarried couple\"' -> 0\n",
    " '9': '\"Refused\"' -> np.nan\n",
    "\"\"\"\n",
    "\n",
    "# Recode 'ever_married' as binary variable (0 = No, 1 = Yes)\n",
    "\n",
    "dirty_df['ever_married'] = dirty_df['ever_married'].replace({1.: 1, 2.: 1, 3.: 1, 4.: 1, \n",
    "                                                             5.: 0, 6.: 0, \n",
    "                                                             9.: np.nan})\n",
    "\n",
    "\n",
    "\"\"\"\n",
    "Codes for 'age5y'\n",
    " '1': '\"Age 18 to 24\"',\n",
    " '2': '\"Age 25 to 29\"',\n",
    " '3': '\"Age 30 to 34\"',\n",
    " '4': '\"Age 35 to 39\"',\n",
    " '5': '\"Age 40 to 44\"',\n",
    " '6': '\"Age 45 to 49\"',\n",
    " '7': '\"Age 50 to 54\"',\n",
    " '8': '\"Age 55 to 59\"',\n",
    " '9': '\"Age 60 to 64\"',\n",
    " '10': '\"Age 65 to 69\"',\n",
    " '11': '\"Age 70 to 74\"',\n",
    " '12': '\"Age 75 to 79\"',\n",
    " '13': '\"Age 80 or older\"',\n",
    " '14': '\"Don't know/Refused/Missing\" -> np.nan\n",
    "\"\"\"\n",
    "dirty_df['age5y'] = dirty_df['age5y'].replace({14.: np.nan})\n",
    "\n",
    "\"\"\"\n",
    "Codes for 'education'\n",
    " '1': '\"Did not graduate High School\"',\n",
    " '2': '\"Graduated High School\"',\n",
    " '3': '\"Attended College or Technical School\"',\n",
    " '4': '\"Graduated from College or Technical School\"',\n",
    " '9': '\"Don't know/Not sure/Missing\"-> np.nan\n",
    "\n",
    "Codes for 'income'\n",
    " '1': '\"Less than $15,000\"',\n",
    " '2': '\"$15,000 to less than $25,000\"',\n",
    " '3': '\"$25,000 to less than $35,000\"',\n",
    " '4': '\"$35,000 to less than $50,000\"',\n",
    " '5': '\"$50,000 or more\"',\n",
    " '9': '\"Don't know/Not sure/Missing\"'-> np.nan\n",
    "\"\"\"\n",
    "vars = ['education', 'income']\n",
    "for col in vars: \n",
    "    dirty_df[col]= dirty_df[col].replace({9.: np.nan})\n",
    "\n",
    "\"\"\"\" \n",
    "Codes for 'employment':\n",
    " '1': '\"Employed for wages\"'\n",
    " '2': '\"Self-employed\"'\n",
    " '3': '\"Out of work for 1 year or more\"'\n",
    " '4': '\"Out of work for less than 1 year\"'\n",
    " '5': '\"A homemaker\"'\n",
    " '6': '\"A student\"'\n",
    " '7': '\"Retired\"'\n",
    " '8': '\"Unable to work\"' -> np.nan (exclude since those unable to work)\n",
    " '9': '\"Refused\"' -> np.nan\n",
    "\n",
    " Note: Those unable to work are excluded since there is a high possibility that they may have other health conditions. \n",
    "\"\"\"\n",
    "\n",
    "dirty_df['employment'] = dirty_df['employment'].replace({8.:np.nan, 9.: np.nan})\n",
    "\n",
    "\"\"\"\n",
    "Codes for 'smoke':\n",
    " '1': '\"Current smoker - now smokes every day\"',\n",
    " '2': '\"Current smoker - now smokes some days\"' --> '1'\n",
    " '3': '\"Former smoker\"', -> '2'\n",
    " '4': '\"Never smoked\"', --> '0'\n",
    " '9': '\"Don't know/Refused/Missing\"' -> np.nan\n",
    "\"\"\"\n",
    "# Recode 'smoke' into 3 catagories (1 = current smoker, 2 = never smoked, 3 = former smoker)\n",
    "\n",
    "dirty_df['smoke'] = dirty_df['smoke'].replace({2.:1, 3.: 2, 4.: 0, 9.: np.nan})\n"
   ]
  },
  {
   "cell_type": "markdown",
   "metadata": {},
   "source": [
    "#### - Verify that variables are correctly recoded"
   ]
  },
  {
   "cell_type": "code",
   "execution_count": null,
   "metadata": {},
   "outputs": [],
   "source": [
    "# Check all levels are correctly assigned to new levels\n",
    "\n",
    "for key, code in varname_code_mapping.items(): \n",
    "    if key not in numerical_variables: \n",
    "        print(pd.crosstab(dirty_df[key],df2015[code]))"
   ]
  },
  {
   "cell_type": "code",
   "execution_count": null,
   "metadata": {},
   "outputs": [],
   "source": [
    "# Save cleaned data \n",
    "clean_df = dirty_df.dropna()\n",
    "clean_df.info()\n"
   ]
  },
  {
   "cell_type": "code",
   "execution_count": null,
   "metadata": {},
   "outputs": [],
   "source": [
    "target_count= clean_df.chd.value_counts()\n",
    "target_count.plot(kind='bar', title='Count (target)')\n",
    "for i, count in enumerate(target_count):\n",
    "    plt.annotate(str(count), xy=(i, count), ha='center', va='bottom')\n",
    "\n",
    "plt.show()"
   ]
  },
  {
   "cell_type": "code",
   "execution_count": null,
   "metadata": {},
   "outputs": [],
   "source": [
    "clean_df.to_csv('cleaned_data_imbalanced.csv', index=False)"
   ]
  },
  {
   "cell_type": "code",
   "execution_count": null,
   "metadata": {},
   "outputs": [],
   "source": [
    "# ydata-profiling report of dirty data file\n",
    "profile = ProfileReport(clean_df, title = \"Profile Report\")\n",
    "profile.to_widgets()"
   ]
  },
  {
   "cell_type": "markdown",
   "metadata": {},
   "source": [
    "## (Optional) Random downsampling\n",
    "\n",
    "Imbalance of data is observed in the between those diagnosed with angina or coronary heart disease (`chd`=1) and those who were not (`chd`=0). Random sampling was done to balance the number of samples in two groups. "
   ]
  },
  {
   "cell_type": "code",
   "execution_count": null,
   "metadata": {},
   "outputs": [],
   "source": [
    "# Class count\n",
    "count_class_0, count_class_1 = clean_df.chd.value_counts()\n",
    "\n",
    "# Divide by class\n",
    "df_chd0 = clean_df[clean_df['chd'] == 0.]\n",
    "df_chd1 = clean_df[clean_df['chd'] == 1.]\n",
    "\n",
    "# Under sampling\n",
    "df_chd0_under = df_chd0.sample(count_class_1)\n",
    "cleandf_undersample = pd.concat([df_chd0_under, df_chd1], axis=0)\n",
    "\n",
    "cleandf_undersample.chd.value_counts().plot(kind='bar', title='Count (target)')\n",
    "for i, count in enumerate(cleandf_undersample.chd.value_counts()):\n",
    "    plt.annotate(str(count), xy=(i, count), ha='center', va='bottom')\n",
    "plt.show()\n"
   ]
  },
  {
   "cell_type": "code",
   "execution_count": null,
   "metadata": {},
   "outputs": [],
   "source": [
    "for var in varname_code_mapping.keys(): \n",
    "    if var not in numerical_variables:\n",
    "        print(pd.crosstab(cleandf_undersample['chd'],cleandf_undersample[var]))\n"
   ]
  },
  {
   "cell_type": "code",
   "execution_count": null,
   "metadata": {},
   "outputs": [],
   "source": [
    "# ydata-profiling report of clean & downsampled data file\n",
    "profile = ProfileReport(cleandf_undersample, title = \"Profile Report\")\n",
    "profile.to_widgets()"
   ]
  },
  {
   "cell_type": "code",
   "execution_count": null,
   "metadata": {},
   "outputs": [],
   "source": [
    "cleandf_undersample.to_csv('cleaned_data.csv')"
   ]
  }
 ],
 "metadata": {
  "kernelspec": {
   "display_name": "Python 3",
   "language": "python",
   "name": "python3"
  },
  "language_info": {
   "codemirror_mode": {
    "name": "ipython",
    "version": 3
   },
   "file_extension": ".py",
   "mimetype": "text/x-python",
   "name": "python",
   "nbconvert_exporter": "python",
   "pygments_lexer": "ipython3",
   "version": "3.11.7"
  },
  "orig_nbformat": 4
 },
 "nbformat": 4,
 "nbformat_minor": 2
}
