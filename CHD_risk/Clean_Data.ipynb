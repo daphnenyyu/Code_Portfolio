{
 "cells": [
  {
   "cell_type": "markdown",
   "metadata": {},
   "source": [
    "# Final Project: Risk factors for Coronary Heart Disease \n",
    "\n",
    "Dataset downloaded from Kaggle example [Behavioral Risk Factor Surveillance System](https://www.kaggle.com/datasets/cdc/behavioral-risk-factor-surveillance-system/data)\n",
    "\n",
    " - Load libraries\n",
    " - Get data from Kaggle\n",
    " - Data cleaning\n",
    "    - Variable selection \n",
    "\n",
    "\n"
   ]
  },
  {
   "cell_type": "code",
   "execution_count": 1,
   "metadata": {},
   "outputs": [
    {
     "name": "stdout",
     "output_type": "stream",
     "text": [
      "Requirement already satisfied: numpy in /opt/homebrew/lib/python3.11/site-packages (from -r requirements.txt (line 1)) (1.26.4)\n",
      "Requirement already satisfied: pandas in /opt/homebrew/lib/python3.11/site-packages (from -r requirements.txt (line 2)) (2.2.1)\n",
      "Requirement already satisfied: matplotlib in /opt/homebrew/lib/python3.11/site-packages (from -r requirements.txt (line 3)) (3.8.3)\n",
      "Requirement already satisfied: tensorflow in /opt/homebrew/lib/python3.11/site-packages (from -r requirements.txt (line 4)) (2.16.1)\n",
      "Requirement already satisfied: imblearn in /opt/homebrew/lib/python3.11/site-packages (from -r requirements.txt (line 5)) (0.0)\n",
      "Requirement already satisfied: ydata-profiling in /opt/homebrew/lib/python3.11/site-packages (from -r requirements.txt (line 6)) (4.7.0)\n",
      "Requirement already satisfied: torch in /opt/homebrew/lib/python3.11/site-packages (from -r requirements.txt (line 9)) (2.2.1)\n",
      "Requirement already satisfied: sqlalchemy in /opt/homebrew/lib/python3.11/site-packages (from -r requirements.txt (line 10)) (2.0.28)\n",
      "Requirement already satisfied: ipython in /Users/Daphne/Library/Python/3.11/lib/python/site-packages (from -r requirements.txt (line 12)) (9.0.2)\n",
      "Requirement already satisfied: python-dateutil>=2.8.2 in /Users/Daphne/Library/Python/3.11/lib/python/site-packages (from pandas->-r requirements.txt (line 2)) (2.9.0.post0)\n",
      "Requirement already satisfied: pytz>=2020.1 in /opt/homebrew/lib/python3.11/site-packages (from pandas->-r requirements.txt (line 2)) (2024.1)\n",
      "Requirement already satisfied: tzdata>=2022.7 in /opt/homebrew/lib/python3.11/site-packages (from pandas->-r requirements.txt (line 2)) (2024.1)\n",
      "Requirement already satisfied: contourpy>=1.0.1 in /opt/homebrew/lib/python3.11/site-packages (from matplotlib->-r requirements.txt (line 3)) (1.2.0)\n",
      "Requirement already satisfied: cycler>=0.10 in /opt/homebrew/lib/python3.11/site-packages (from matplotlib->-r requirements.txt (line 3)) (0.12.1)\n",
      "Requirement already satisfied: fonttools>=4.22.0 in /opt/homebrew/lib/python3.11/site-packages (from matplotlib->-r requirements.txt (line 3)) (4.50.0)\n",
      "Requirement already satisfied: kiwisolver>=1.3.1 in /opt/homebrew/lib/python3.11/site-packages (from matplotlib->-r requirements.txt (line 3)) (1.4.5)\n",
      "Requirement already satisfied: packaging>=20.0 in /Users/Daphne/Library/Python/3.11/lib/python/site-packages (from matplotlib->-r requirements.txt (line 3)) (24.2)\n",
      "Requirement already satisfied: pillow>=8 in /opt/homebrew/lib/python3.11/site-packages (from matplotlib->-r requirements.txt (line 3)) (10.2.0)\n",
      "Requirement already satisfied: pyparsing>=2.3.1 in /opt/homebrew/lib/python3.11/site-packages (from matplotlib->-r requirements.txt (line 3)) (3.1.2)\n",
      "Requirement already satisfied: absl-py>=1.0.0 in /opt/homebrew/lib/python3.11/site-packages (from tensorflow->-r requirements.txt (line 4)) (2.1.0)\n",
      "Requirement already satisfied: astunparse>=1.6.0 in /opt/homebrew/lib/python3.11/site-packages (from tensorflow->-r requirements.txt (line 4)) (1.6.3)\n",
      "Requirement already satisfied: flatbuffers>=23.5.26 in /opt/homebrew/lib/python3.11/site-packages (from tensorflow->-r requirements.txt (line 4)) (24.3.7)\n",
      "Requirement already satisfied: gast!=0.5.0,!=0.5.1,!=0.5.2,>=0.2.1 in /opt/homebrew/lib/python3.11/site-packages (from tensorflow->-r requirements.txt (line 4)) (0.5.4)\n",
      "Requirement already satisfied: google-pasta>=0.1.1 in /opt/homebrew/lib/python3.11/site-packages (from tensorflow->-r requirements.txt (line 4)) (0.2.0)\n",
      "Requirement already satisfied: h5py>=3.10.0 in /opt/homebrew/lib/python3.11/site-packages (from tensorflow->-r requirements.txt (line 4)) (3.10.0)\n",
      "Requirement already satisfied: libclang>=13.0.0 in /opt/homebrew/lib/python3.11/site-packages (from tensorflow->-r requirements.txt (line 4)) (18.1.1)\n",
      "Requirement already satisfied: ml-dtypes~=0.3.1 in /opt/homebrew/lib/python3.11/site-packages (from tensorflow->-r requirements.txt (line 4)) (0.3.2)\n",
      "Requirement already satisfied: opt-einsum>=2.3.2 in /opt/homebrew/lib/python3.11/site-packages (from tensorflow->-r requirements.txt (line 4)) (3.3.0)\n",
      "Requirement already satisfied: protobuf!=4.21.0,!=4.21.1,!=4.21.2,!=4.21.3,!=4.21.4,!=4.21.5,<5.0.0dev,>=3.20.3 in /opt/homebrew/lib/python3.11/site-packages (from tensorflow->-r requirements.txt (line 4)) (4.25.3)\n",
      "Requirement already satisfied: requests<3,>=2.21.0 in /opt/homebrew/lib/python3.11/site-packages (from tensorflow->-r requirements.txt (line 4)) (2.31.0)\n",
      "Requirement already satisfied: setuptools in /opt/homebrew/lib/python3.11/site-packages (from tensorflow->-r requirements.txt (line 4)) (70.3.0)\n",
      "Requirement already satisfied: six>=1.12.0 in /Users/Daphne/Library/Python/3.11/lib/python/site-packages (from tensorflow->-r requirements.txt (line 4)) (1.17.0)\n",
      "Requirement already satisfied: termcolor>=1.1.0 in /opt/homebrew/lib/python3.11/site-packages (from tensorflow->-r requirements.txt (line 4)) (2.4.0)\n",
      "Requirement already satisfied: typing-extensions>=3.6.6 in /Users/Daphne/Library/Python/3.11/lib/python/site-packages (from tensorflow->-r requirements.txt (line 4)) (4.12.2)\n",
      "Requirement already satisfied: wrapt>=1.11.0 in /opt/homebrew/lib/python3.11/site-packages (from tensorflow->-r requirements.txt (line 4)) (1.16.0)\n",
      "Requirement already satisfied: grpcio<2.0,>=1.24.3 in /opt/homebrew/lib/python3.11/site-packages (from tensorflow->-r requirements.txt (line 4)) (1.62.1)\n",
      "Requirement already satisfied: tensorboard<2.17,>=2.16 in /opt/homebrew/lib/python3.11/site-packages (from tensorflow->-r requirements.txt (line 4)) (2.16.2)\n",
      "Requirement already satisfied: keras>=3.0.0 in /opt/homebrew/lib/python3.11/site-packages (from tensorflow->-r requirements.txt (line 4)) (3.1.0)\n",
      "Requirement already satisfied: tensorflow-io-gcs-filesystem>=0.23.1 in /opt/homebrew/lib/python3.11/site-packages (from tensorflow->-r requirements.txt (line 4)) (0.36.0)\n",
      "Requirement already satisfied: imbalanced-learn in /opt/homebrew/lib/python3.11/site-packages (from imblearn->-r requirements.txt (line 5)) (0.12.0)\n",
      "Requirement already satisfied: scipy<1.12,>=1.4.1 in /opt/homebrew/lib/python3.11/site-packages (from ydata-profiling->-r requirements.txt (line 6)) (1.11.4)\n",
      "Requirement already satisfied: pydantic>=2 in /opt/homebrew/lib/python3.11/site-packages (from ydata-profiling->-r requirements.txt (line 6)) (2.6.4)\n",
      "Requirement already satisfied: PyYAML<6.1,>=5.0.0 in /opt/homebrew/lib/python3.11/site-packages (from ydata-profiling->-r requirements.txt (line 6)) (6.0.1)\n",
      "Requirement already satisfied: jinja2<3.2,>=2.11.1 in /opt/homebrew/lib/python3.11/site-packages (from ydata-profiling->-r requirements.txt (line 6)) (3.1.3)\n",
      "Requirement already satisfied: visions<0.7.7,>=0.7.5 in /opt/homebrew/lib/python3.11/site-packages (from visions[type_image_path]<0.7.7,>=0.7.5->ydata-profiling->-r requirements.txt (line 6)) (0.7.6)\n",
      "Requirement already satisfied: htmlmin==0.1.12 in /opt/homebrew/lib/python3.11/site-packages (from ydata-profiling->-r requirements.txt (line 6)) (0.1.12)\n",
      "Requirement already satisfied: phik<0.13,>=0.11.1 in /opt/homebrew/lib/python3.11/site-packages (from ydata-profiling->-r requirements.txt (line 6)) (0.12.4)\n",
      "Requirement already satisfied: tqdm<5,>=4.48.2 in /opt/homebrew/lib/python3.11/site-packages (from ydata-profiling->-r requirements.txt (line 6)) (4.66.2)\n",
      "Requirement already satisfied: seaborn<0.13,>=0.10.1 in /opt/homebrew/lib/python3.11/site-packages (from ydata-profiling->-r requirements.txt (line 6)) (0.12.2)\n",
      "Requirement already satisfied: multimethod<2,>=1.4 in /opt/homebrew/lib/python3.11/site-packages (from ydata-profiling->-r requirements.txt (line 6)) (1.11.2)\n",
      "Requirement already satisfied: statsmodels<1,>=0.13.2 in /opt/homebrew/lib/python3.11/site-packages (from ydata-profiling->-r requirements.txt (line 6)) (0.14.1)\n",
      "Requirement already satisfied: typeguard<5,>=4.1.2 in /opt/homebrew/lib/python3.11/site-packages (from ydata-profiling->-r requirements.txt (line 6)) (4.1.5)\n",
      "Requirement already satisfied: imagehash==4.3.1 in /opt/homebrew/lib/python3.11/site-packages (from ydata-profiling->-r requirements.txt (line 6)) (4.3.1)\n",
      "Requirement already satisfied: wordcloud>=1.9.1 in /opt/homebrew/lib/python3.11/site-packages (from ydata-profiling->-r requirements.txt (line 6)) (1.9.3)\n",
      "Requirement already satisfied: dacite>=1.8 in /opt/homebrew/lib/python3.11/site-packages (from ydata-profiling->-r requirements.txt (line 6)) (1.8.1)\n",
      "Requirement already satisfied: numba<1,>=0.56.0 in /opt/homebrew/lib/python3.11/site-packages (from ydata-profiling->-r requirements.txt (line 6)) (0.59.0)\n",
      "Requirement already satisfied: PyWavelets in /opt/homebrew/lib/python3.11/site-packages (from imagehash==4.3.1->ydata-profiling->-r requirements.txt (line 6)) (1.5.0)\n",
      "Requirement already satisfied: filelock in /opt/homebrew/lib/python3.11/site-packages (from torch->-r requirements.txt (line 9)) (3.13.1)\n",
      "Requirement already satisfied: sympy in /opt/homebrew/lib/python3.11/site-packages (from torch->-r requirements.txt (line 9)) (1.12)\n",
      "Requirement already satisfied: networkx in /opt/homebrew/lib/python3.11/site-packages (from torch->-r requirements.txt (line 9)) (3.2.1)\n",
      "Requirement already satisfied: fsspec in /opt/homebrew/lib/python3.11/site-packages (from torch->-r requirements.txt (line 9)) (2024.3.1)\n",
      "Requirement already satisfied: decorator in /Users/Daphne/Library/Python/3.11/lib/python/site-packages (from ipython->-r requirements.txt (line 12)) (5.2.1)\n",
      "Requirement already satisfied: ipython-pygments-lexers in /Users/Daphne/Library/Python/3.11/lib/python/site-packages (from ipython->-r requirements.txt (line 12)) (1.1.1)\n",
      "Requirement already satisfied: jedi>=0.16 in /Users/Daphne/Library/Python/3.11/lib/python/site-packages (from ipython->-r requirements.txt (line 12)) (0.19.2)\n",
      "Requirement already satisfied: matplotlib-inline in /Users/Daphne/Library/Python/3.11/lib/python/site-packages (from ipython->-r requirements.txt (line 12)) (0.1.7)\n",
      "Requirement already satisfied: pexpect>4.3 in /Users/Daphne/Library/Python/3.11/lib/python/site-packages (from ipython->-r requirements.txt (line 12)) (4.9.0)\n",
      "Requirement already satisfied: prompt_toolkit<3.1.0,>=3.0.41 in /Users/Daphne/Library/Python/3.11/lib/python/site-packages (from ipython->-r requirements.txt (line 12)) (3.0.50)\n",
      "Requirement already satisfied: pygments>=2.4.0 in /Users/Daphne/Library/Python/3.11/lib/python/site-packages (from ipython->-r requirements.txt (line 12)) (2.19.1)\n",
      "Requirement already satisfied: stack_data in /Users/Daphne/Library/Python/3.11/lib/python/site-packages (from ipython->-r requirements.txt (line 12)) (0.6.3)\n",
      "Requirement already satisfied: traitlets>=5.13.0 in /Users/Daphne/Library/Python/3.11/lib/python/site-packages (from ipython->-r requirements.txt (line 12)) (5.14.3)\n",
      "Requirement already satisfied: wheel<1.0,>=0.23.0 in /opt/homebrew/lib/python3.11/site-packages (from astunparse>=1.6.0->tensorflow->-r requirements.txt (line 4)) (0.43.0)\n",
      "Requirement already satisfied: parso<0.9.0,>=0.8.4 in /Users/Daphne/Library/Python/3.11/lib/python/site-packages (from jedi>=0.16->ipython->-r requirements.txt (line 12)) (0.8.4)\n",
      "Requirement already satisfied: MarkupSafe>=2.0 in /opt/homebrew/lib/python3.11/site-packages (from jinja2<3.2,>=2.11.1->ydata-profiling->-r requirements.txt (line 6)) (2.1.5)\n",
      "Requirement already satisfied: rich in /opt/homebrew/lib/python3.11/site-packages (from keras>=3.0.0->tensorflow->-r requirements.txt (line 4)) (13.7.1)\n",
      "Requirement already satisfied: namex in /opt/homebrew/lib/python3.11/site-packages (from keras>=3.0.0->tensorflow->-r requirements.txt (line 4)) (0.0.7)\n",
      "Requirement already satisfied: optree in /opt/homebrew/lib/python3.11/site-packages (from keras>=3.0.0->tensorflow->-r requirements.txt (line 4)) (0.10.0)\n",
      "Requirement already satisfied: llvmlite<0.43,>=0.42.0dev0 in /opt/homebrew/lib/python3.11/site-packages (from numba<1,>=0.56.0->ydata-profiling->-r requirements.txt (line 6)) (0.42.0)\n",
      "Requirement already satisfied: ptyprocess>=0.5 in /Users/Daphne/Library/Python/3.11/lib/python/site-packages (from pexpect>4.3->ipython->-r requirements.txt (line 12)) (0.7.0)\n",
      "Requirement already satisfied: joblib>=0.14.1 in /opt/homebrew/lib/python3.11/site-packages (from phik<0.13,>=0.11.1->ydata-profiling->-r requirements.txt (line 6)) (1.3.2)\n",
      "Requirement already satisfied: wcwidth in /Users/Daphne/Library/Python/3.11/lib/python/site-packages (from prompt_toolkit<3.1.0,>=3.0.41->ipython->-r requirements.txt (line 12)) (0.2.13)\n",
      "Requirement already satisfied: annotated-types>=0.4.0 in /opt/homebrew/lib/python3.11/site-packages (from pydantic>=2->ydata-profiling->-r requirements.txt (line 6)) (0.6.0)\n",
      "Requirement already satisfied: pydantic-core==2.16.3 in /opt/homebrew/lib/python3.11/site-packages (from pydantic>=2->ydata-profiling->-r requirements.txt (line 6)) (2.16.3)\n",
      "Requirement already satisfied: charset-normalizer<4,>=2 in /opt/homebrew/lib/python3.11/site-packages (from requests<3,>=2.21.0->tensorflow->-r requirements.txt (line 4)) (3.3.2)\n",
      "Requirement already satisfied: idna<4,>=2.5 in /opt/homebrew/lib/python3.11/site-packages (from requests<3,>=2.21.0->tensorflow->-r requirements.txt (line 4)) (3.6)\n",
      "Requirement already satisfied: urllib3<3,>=1.21.1 in /opt/homebrew/lib/python3.11/site-packages (from requests<3,>=2.21.0->tensorflow->-r requirements.txt (line 4)) (2.2.1)\n",
      "Requirement already satisfied: certifi>=2017.4.17 in /opt/homebrew/lib/python3.11/site-packages (from requests<3,>=2.21.0->tensorflow->-r requirements.txt (line 4)) (2024.2.2)\n",
      "Requirement already satisfied: patsy>=0.5.4 in /opt/homebrew/lib/python3.11/site-packages (from statsmodels<1,>=0.13.2->ydata-profiling->-r requirements.txt (line 6)) (0.5.6)\n",
      "Requirement already satisfied: markdown>=2.6.8 in /opt/homebrew/lib/python3.11/site-packages (from tensorboard<2.17,>=2.16->tensorflow->-r requirements.txt (line 4)) (3.6)\n",
      "Requirement already satisfied: tensorboard-data-server<0.8.0,>=0.7.0 in /opt/homebrew/lib/python3.11/site-packages (from tensorboard<2.17,>=2.16->tensorflow->-r requirements.txt (line 4)) (0.7.2)\n",
      "Requirement already satisfied: werkzeug>=1.0.1 in /opt/homebrew/lib/python3.11/site-packages (from tensorboard<2.17,>=2.16->tensorflow->-r requirements.txt (line 4)) (3.0.1)\n",
      "Requirement already satisfied: attrs>=19.3.0 in /opt/homebrew/lib/python3.11/site-packages (from visions<0.7.7,>=0.7.5->visions[type_image_path]<0.7.7,>=0.7.5->ydata-profiling->-r requirements.txt (line 6)) (23.2.0)\n",
      "Requirement already satisfied: scikit-learn>=1.0.2 in /opt/homebrew/lib/python3.11/site-packages (from imbalanced-learn->imblearn->-r requirements.txt (line 5)) (1.4.1.post1)\n",
      "Requirement already satisfied: threadpoolctl>=2.0.0 in /opt/homebrew/lib/python3.11/site-packages (from imbalanced-learn->imblearn->-r requirements.txt (line 5)) (3.3.0)\n",
      "Requirement already satisfied: executing>=1.2.0 in /Users/Daphne/Library/Python/3.11/lib/python/site-packages (from stack_data->ipython->-r requirements.txt (line 12)) (2.2.0)\n",
      "Requirement already satisfied: asttokens>=2.1.0 in /Users/Daphne/Library/Python/3.11/lib/python/site-packages (from stack_data->ipython->-r requirements.txt (line 12)) (3.0.0)\n",
      "Requirement already satisfied: pure-eval in /Users/Daphne/Library/Python/3.11/lib/python/site-packages (from stack_data->ipython->-r requirements.txt (line 12)) (0.2.3)\n",
      "Requirement already satisfied: mpmath>=0.19 in /opt/homebrew/lib/python3.11/site-packages (from sympy->torch->-r requirements.txt (line 9)) (1.3.0)\n",
      "Requirement already satisfied: markdown-it-py>=2.2.0 in /opt/homebrew/lib/python3.11/site-packages (from rich->keras>=3.0.0->tensorflow->-r requirements.txt (line 4)) (3.0.0)\n",
      "Requirement already satisfied: mdurl~=0.1 in /opt/homebrew/lib/python3.11/site-packages (from markdown-it-py>=2.2.0->rich->keras>=3.0.0->tensorflow->-r requirements.txt (line 4)) (0.1.2)\n",
      "Note: you may need to restart the kernel to use updated packages.\n"
     ]
    }
   ],
   "source": [
    "# Install required packages\n",
    "%pip install -r requirements.txt\n",
    "%reset -f"
   ]
  },
  {
   "cell_type": "code",
   "execution_count": 2,
   "metadata": {},
   "outputs": [
    {
     "name": "stderr",
     "output_type": "stream",
     "text": [
      "/opt/homebrew/lib/python3.11/site-packages/tqdm/auto.py:21: TqdmWarning: IProgress not found. Please update jupyter and ipywidgets. See https://ipywidgets.readthedocs.io/en/stable/user_install.html\n",
      "  from .autonotebook import tqdm as notebook_tqdm\n"
     ]
    }
   ],
   "source": [
    "# Import Libraries\n",
    "import zipfile\n",
    "import os\n",
    "import numpy as np \n",
    "import pandas as pd \n",
    "import matplotlib.pyplot as plt\n",
    "import seaborn as sns\n",
    "import imblearn\n",
    "from ydata_profiling import ProfileReport\n",
    "from sqlalchemy import create_engine"
   ]
  },
  {
   "cell_type": "code",
   "execution_count": 3,
   "metadata": {},
   "outputs": [],
   "source": [
    "# Unzip the data\n",
    "with zipfile.ZipFile('BRFSS.zip', 'r') as zip_ref:\n",
    "    zip_ref.extractall('data')"
   ]
  },
  {
   "cell_type": "code",
   "execution_count": 4,
   "metadata": {},
   "outputs": [
    {
     "ename": "KeyboardInterrupt",
     "evalue": "",
     "output_type": "error",
     "traceback": [
      "\u001b[31m---------------------------------------------------------------------------\u001b[39m",
      "\u001b[31mKeyboardInterrupt\u001b[39m                         Traceback (most recent call last)",
      "\u001b[36mCell\u001b[39m\u001b[36m \u001b[39m\u001b[32mIn[4]\u001b[39m\u001b[32m, line 9\u001b[39m\n\u001b[32m      7\u001b[39m \u001b[38;5;66;03m# tables[table_name] = pd.read_csv(file_path)\u001b[39;00m\n\u001b[32m      8\u001b[39m tables.append(table_name)\n\u001b[32m----> \u001b[39m\u001b[32m9\u001b[39m \u001b[38;5;28mglobals\u001b[39m()[table_name] = \u001b[43mpd\u001b[49m\u001b[43m.\u001b[49m\u001b[43mread_csv\u001b[49m\u001b[43m(\u001b[49m\u001b[43mfile_path\u001b[49m\u001b[43m)\u001b[49m\n",
      "\u001b[36mFile \u001b[39m\u001b[32m/opt/homebrew/lib/python3.11/site-packages/pandas/io/parsers/readers.py:1026\u001b[39m, in \u001b[36mread_csv\u001b[39m\u001b[34m(filepath_or_buffer, sep, delimiter, header, names, index_col, usecols, dtype, engine, converters, true_values, false_values, skipinitialspace, skiprows, skipfooter, nrows, na_values, keep_default_na, na_filter, verbose, skip_blank_lines, parse_dates, infer_datetime_format, keep_date_col, date_parser, date_format, dayfirst, cache_dates, iterator, chunksize, compression, thousands, decimal, lineterminator, quotechar, quoting, doublequote, escapechar, comment, encoding, encoding_errors, dialect, on_bad_lines, delim_whitespace, low_memory, memory_map, float_precision, storage_options, dtype_backend)\u001b[39m\n\u001b[32m   1013\u001b[39m kwds_defaults = _refine_defaults_read(\n\u001b[32m   1014\u001b[39m     dialect,\n\u001b[32m   1015\u001b[39m     delimiter,\n\u001b[32m   (...)\u001b[39m\u001b[32m   1022\u001b[39m     dtype_backend=dtype_backend,\n\u001b[32m   1023\u001b[39m )\n\u001b[32m   1024\u001b[39m kwds.update(kwds_defaults)\n\u001b[32m-> \u001b[39m\u001b[32m1026\u001b[39m \u001b[38;5;28;01mreturn\u001b[39;00m \u001b[43m_read\u001b[49m\u001b[43m(\u001b[49m\u001b[43mfilepath_or_buffer\u001b[49m\u001b[43m,\u001b[49m\u001b[43m \u001b[49m\u001b[43mkwds\u001b[49m\u001b[43m)\u001b[49m\n",
      "\u001b[36mFile \u001b[39m\u001b[32m/opt/homebrew/lib/python3.11/site-packages/pandas/io/parsers/readers.py:626\u001b[39m, in \u001b[36m_read\u001b[39m\u001b[34m(filepath_or_buffer, kwds)\u001b[39m\n\u001b[32m    623\u001b[39m     \u001b[38;5;28;01mreturn\u001b[39;00m parser\n\u001b[32m    625\u001b[39m \u001b[38;5;28;01mwith\u001b[39;00m parser:\n\u001b[32m--> \u001b[39m\u001b[32m626\u001b[39m     \u001b[38;5;28;01mreturn\u001b[39;00m \u001b[43mparser\u001b[49m\u001b[43m.\u001b[49m\u001b[43mread\u001b[49m\u001b[43m(\u001b[49m\u001b[43mnrows\u001b[49m\u001b[43m)\u001b[49m\n",
      "\u001b[36mFile \u001b[39m\u001b[32m/opt/homebrew/lib/python3.11/site-packages/pandas/io/parsers/readers.py:1923\u001b[39m, in \u001b[36mTextFileReader.read\u001b[39m\u001b[34m(self, nrows)\u001b[39m\n\u001b[32m   1916\u001b[39m nrows = validate_integer(\u001b[33m\"\u001b[39m\u001b[33mnrows\u001b[39m\u001b[33m\"\u001b[39m, nrows)\n\u001b[32m   1917\u001b[39m \u001b[38;5;28;01mtry\u001b[39;00m:\n\u001b[32m   1918\u001b[39m     \u001b[38;5;66;03m# error: \"ParserBase\" has no attribute \"read\"\u001b[39;00m\n\u001b[32m   1919\u001b[39m     (\n\u001b[32m   1920\u001b[39m         index,\n\u001b[32m   1921\u001b[39m         columns,\n\u001b[32m   1922\u001b[39m         col_dict,\n\u001b[32m-> \u001b[39m\u001b[32m1923\u001b[39m     ) = \u001b[38;5;28;43mself\u001b[39;49m\u001b[43m.\u001b[49m\u001b[43m_engine\u001b[49m\u001b[43m.\u001b[49m\u001b[43mread\u001b[49m\u001b[43m(\u001b[49m\u001b[43m  \u001b[49m\u001b[38;5;66;43;03m# type: ignore[attr-defined]\u001b[39;49;00m\n\u001b[32m   1924\u001b[39m \u001b[43m        \u001b[49m\u001b[43mnrows\u001b[49m\n\u001b[32m   1925\u001b[39m \u001b[43m    \u001b[49m\u001b[43m)\u001b[49m\n\u001b[32m   1926\u001b[39m \u001b[38;5;28;01mexcept\u001b[39;00m \u001b[38;5;167;01mException\u001b[39;00m:\n\u001b[32m   1927\u001b[39m     \u001b[38;5;28mself\u001b[39m.close()\n",
      "\u001b[36mFile \u001b[39m\u001b[32m/opt/homebrew/lib/python3.11/site-packages/pandas/io/parsers/c_parser_wrapper.py:234\u001b[39m, in \u001b[36mCParserWrapper.read\u001b[39m\u001b[34m(self, nrows)\u001b[39m\n\u001b[32m    232\u001b[39m \u001b[38;5;28;01mtry\u001b[39;00m:\n\u001b[32m    233\u001b[39m     \u001b[38;5;28;01mif\u001b[39;00m \u001b[38;5;28mself\u001b[39m.low_memory:\n\u001b[32m--> \u001b[39m\u001b[32m234\u001b[39m         chunks = \u001b[38;5;28;43mself\u001b[39;49m\u001b[43m.\u001b[49m\u001b[43m_reader\u001b[49m\u001b[43m.\u001b[49m\u001b[43mread_low_memory\u001b[49m\u001b[43m(\u001b[49m\u001b[43mnrows\u001b[49m\u001b[43m)\u001b[49m\n\u001b[32m    235\u001b[39m         \u001b[38;5;66;03m# destructive to chunks\u001b[39;00m\n\u001b[32m    236\u001b[39m         data = _concatenate_chunks(chunks)\n",
      "\u001b[36mFile \u001b[39m\u001b[32mparsers.pyx:838\u001b[39m, in \u001b[36mpandas._libs.parsers.TextReader.read_low_memory\u001b[39m\u001b[34m()\u001b[39m\n",
      "\u001b[36mFile \u001b[39m\u001b[32mparsers.pyx:921\u001b[39m, in \u001b[36mpandas._libs.parsers.TextReader._read_rows\u001b[39m\u001b[34m()\u001b[39m\n",
      "\u001b[36mFile \u001b[39m\u001b[32mparsers.pyx:1083\u001b[39m, in \u001b[36mpandas._libs.parsers.TextReader._convert_column_data\u001b[39m\u001b[34m()\u001b[39m\n",
      "\u001b[36mFile \u001b[39m\u001b[32mparsers.pyx:1456\u001b[39m, in \u001b[36mpandas._libs.parsers._maybe_upcast\u001b[39m\u001b[34m()\u001b[39m\n",
      "\u001b[36mFile \u001b[39m\u001b[32m/opt/homebrew/lib/python3.11/site-packages/numpy/core/multiarray.py:1131\u001b[39m, in \u001b[36mputmask\u001b[39m\u001b[34m(a, mask, values)\u001b[39m\n\u001b[32m   1082\u001b[39m \u001b[38;5;250m    \u001b[39m\u001b[33;03m\"\"\"\u001b[39;00m\n\u001b[32m   1083\u001b[39m \u001b[33;03m    copyto(dst, src, casting='same_kind', where=True)\u001b[39;00m\n\u001b[32m   1084\u001b[39m \n\u001b[32m   (...)\u001b[39m\u001b[32m   1126\u001b[39m \n\u001b[32m   1127\u001b[39m \u001b[33;03m    \"\"\"\u001b[39;00m\n\u001b[32m   1128\u001b[39m     \u001b[38;5;28;01mreturn\u001b[39;00m (dst, src, where)\n\u001b[32m-> \u001b[39m\u001b[32m1131\u001b[39m \u001b[38;5;129m@array_function_from_c_func_and_dispatcher\u001b[39m(_multiarray_umath.putmask)\n\u001b[32m   1132\u001b[39m \u001b[38;5;28;01mdef\u001b[39;00m\u001b[38;5;250m \u001b[39m\u001b[34mputmask\u001b[39m(a, /, mask, values):\n\u001b[32m   1133\u001b[39m \u001b[38;5;250m    \u001b[39m\u001b[33;03m\"\"\"\u001b[39;00m\n\u001b[32m   1134\u001b[39m \u001b[33;03m    putmask(a, mask, values)\u001b[39;00m\n\u001b[32m   1135\u001b[39m \n\u001b[32m   (...)\u001b[39m\u001b[32m   1171\u001b[39m \n\u001b[32m   1172\u001b[39m \u001b[33;03m    \"\"\"\u001b[39;00m\n\u001b[32m   1173\u001b[39m     \u001b[38;5;28;01mreturn\u001b[39;00m (a, mask, values)\n",
      "\u001b[31mKeyboardInterrupt\u001b[39m: "
     ]
    }
   ],
   "source": [
    "# Load each CSV into a DataFrame\n",
    "tables = []\n",
    "for f in os.listdir('data'):\n",
    "    if f.endswith('.csv'):\n",
    "        table_name = 'df'+f.replace('.csv', '')\n",
    "        file_path = os.path.join('data', f)\n",
    "        # tables[table_name] = pd.read_csv(file_path)\n",
    "        tables.append(table_name)\n",
    "        globals()[table_name] = pd.read_csv(file_path)"
   ]
  },
  {
   "cell_type": "code",
   "execution_count": null,
   "metadata": {
    "tags": []
   },
   "outputs": [
    {
     "data": {
      "text/plain": [
       "{'.': '\"Not asked or Missing\"',\n",
       " '.D': '\"DK/NS\"',\n",
       " '.R': '\"REFUSED\"',\n",
       " '1': '\"Yes\"',\n",
       " '2': '\"No\"',\n",
       " '7': '\"Don\\x92t know/Not sure\"',\n",
       " '9': '\"Refused\"'}"
      ]
     },
     "execution_count": 3,
     "metadata": {},
     "output_type": "execute_result"
    }
   ],
   "source": [
    "# Load json mapping file into a dictionary\n",
    "import json\n",
    "with open('data/2015_formats.json', 'r') as file: \n",
    "    mapping = json.load(file)\n",
    "# Example: codebook for 'CVD4CRHD' ('CVDCRHD4' in .csv file)\n",
    "    # Note: variable codes in codebook and .csv files may not be the same\n",
    "mapping['CVD4CRHD']"
   ]
  },
  {
   "cell_type": "markdown",
   "metadata": {},
   "source": [
    "## Exploratory data analysis\n",
    "(of BRFSS 2015 data)"
   ]
  },
  {
   "cell_type": "code",
   "execution_count": null,
   "metadata": {},
   "outputs": [
    {
     "name": "stdout",
     "output_type": "stream",
     "text": [
      "There are 441456 rows and 330 columns in the original data set.\n"
     ]
    }
   ],
   "source": [
    "print(f'There are {df2015.shape[0]} rows and {df2015.shape[1]} columns in the original data set.')"
   ]
  },
  {
   "cell_type": "markdown",
   "metadata": {},
   "source": [
    "### Select target and predictor variables"
   ]
  },
  {
   "cell_type": "code",
   "execution_count": null,
   "metadata": {},
   "outputs": [],
   "source": [
    "# Create dictionary to store variables and their corresponding BRFSS code \n",
    "varname_code_mapping = {\n",
    "    # target variable\n",
    "    'chd': 'CVDCRHD4', \n",
    "    # predictor variables\n",
    "        #demographic variables\n",
    "    'sex': 'SEX', \n",
    "    'race': '_RACE_G1',\n",
    "    'age5y': '_AGEG5YR',  \n",
    "    'ever_married': 'MARITAL',\n",
    "        #socioeconomic status variables\n",
    "    'education':'_EDUCAG', \n",
    "    'income': '_INCOMG',\n",
    "    'employment': 'EMPLOY1', \n",
    "        # health variables\n",
    "    'diabetes': 'DIABETE3', \n",
    "    'hypertension': 'BPHIGH4', \n",
    "    'bmi': '_BMI5',\n",
    "        # behavioral variables\n",
    "    'smoke': '_SMOKER3',\n",
    "    'vegetable': '_VEGLT1',\n",
    "    'fruit': '_FRTLT1',\n",
    "    'binge_drink': 'DRNK3GE5',\n",
    "    'exercise': 'EXERANY2', \n",
    "}\n"
   ]
  },
  {
   "cell_type": "code",
   "execution_count": null,
   "metadata": {},
   "outputs": [],
   "source": [
    "# Take data from 2015 BFRSS data frame\n",
    "df = df2015\n",
    "\n",
    "# Record numerical variables\n",
    "numerical_variables = ['bmi', 'binge_drink']\n",
    "\n",
    "# Select variables and store in new data frame\n",
    "    # Catagorical variables are stored as strings\n",
    "    # Numerical variables are transformed as needed when imported\n",
    "dirty_df = pd.DataFrame()\n",
    "for key, code in varname_code_mapping.items(): \n",
    "    if key not in numerical_variables: \n",
    "        dirty_df[key] = df[code]\n",
    "    elif key == 'bmi':\n",
    "        # Return true values of bmi (divide by 100)\n",
    "        dirty_df[key] = df[code]/100\n",
    "    elif key == 'binge_drink': \n",
    "        dirty_df[key] = df[code].replace({88: 0, 77: np.nan, 99: np.nan})\n",
    "    \n"
   ]
  },
  {
   "cell_type": "code",
   "execution_count": null,
   "metadata": {},
   "outputs": [
    {
     "name": "stdout",
     "output_type": "stream",
     "text": [
      "There are 441456 rows and 16 columns in the selected data set.\n"
     ]
    }
   ],
   "source": [
    "print(f'There are {dirty_df.shape[0]} rows and {dirty_df.shape[1]} columns in the selected data set.')"
   ]
  },
  {
   "cell_type": "code",
   "execution_count": null,
   "metadata": {},
   "outputs": [
    {
     "data": {
      "text/html": [
       "<div>\n",
       "<style scoped>\n",
       "    .dataframe tbody tr th:only-of-type {\n",
       "        vertical-align: middle;\n",
       "    }\n",
       "\n",
       "    .dataframe tbody tr th {\n",
       "        vertical-align: top;\n",
       "    }\n",
       "\n",
       "    .dataframe thead th {\n",
       "        text-align: right;\n",
       "    }\n",
       "</style>\n",
       "<table border=\"1\" class=\"dataframe\">\n",
       "  <thead>\n",
       "    <tr style=\"text-align: right;\">\n",
       "      <th></th>\n",
       "      <th>bmi</th>\n",
       "      <th>binge_drink</th>\n",
       "    </tr>\n",
       "  </thead>\n",
       "  <tbody>\n",
       "    <tr>\n",
       "      <th>count</th>\n",
       "      <td>405058.000000</td>\n",
       "      <td>207385.000000</td>\n",
       "    </tr>\n",
       "    <tr>\n",
       "      <th>mean</th>\n",
       "      <td>28.042424</td>\n",
       "      <td>1.051908</td>\n",
       "    </tr>\n",
       "    <tr>\n",
       "      <th>std</th>\n",
       "      <td>6.654634</td>\n",
       "      <td>3.573428</td>\n",
       "    </tr>\n",
       "    <tr>\n",
       "      <th>min</th>\n",
       "      <td>12.020000</td>\n",
       "      <td>0.000000</td>\n",
       "    </tr>\n",
       "    <tr>\n",
       "      <th>25%</th>\n",
       "      <td>23.730000</td>\n",
       "      <td>0.000000</td>\n",
       "    </tr>\n",
       "    <tr>\n",
       "      <th>50%</th>\n",
       "      <td>26.950000</td>\n",
       "      <td>0.000000</td>\n",
       "    </tr>\n",
       "    <tr>\n",
       "      <th>75%</th>\n",
       "      <td>30.900000</td>\n",
       "      <td>0.000000</td>\n",
       "    </tr>\n",
       "    <tr>\n",
       "      <th>max</th>\n",
       "      <td>99.950000</td>\n",
       "      <td>76.000000</td>\n",
       "    </tr>\n",
       "  </tbody>\n",
       "</table>\n",
       "</div>"
      ],
      "text/plain": [
       "                 bmi    binge_drink\n",
       "count  405058.000000  207385.000000\n",
       "mean       28.042424       1.051908\n",
       "std         6.654634       3.573428\n",
       "min        12.020000       0.000000\n",
       "25%        23.730000       0.000000\n",
       "50%        26.950000       0.000000\n",
       "75%        30.900000       0.000000\n",
       "max        99.950000      76.000000"
      ]
     },
     "execution_count": 10,
     "metadata": {},
     "output_type": "execute_result"
    }
   ],
   "source": [
    "# Print overview of numerical variables\n",
    "dirty_df[numerical_variables].describe()"
   ]
  },
  {
   "cell_type": "markdown",
   "metadata": {},
   "source": [
    "## Clean Data\n",
    "\n",
    "#### - Remove unrealistic data (BMI>= 18.5)"
   ]
  },
  {
   "cell_type": "code",
   "execution_count": null,
   "metadata": {},
   "outputs": [],
   "source": [
    "# BMI is unlikely to be lower than 18.5\n",
    "dirty_df = dirty_df[dirty_df['bmi'] >= 18.5]"
   ]
  },
  {
   "cell_type": "markdown",
   "metadata": {},
   "source": [
    "#### - Recode variables"
   ]
  },
  {
   "cell_type": "code",
   "execution_count": null,
   "metadata": {},
   "outputs": [
    {
     "name": "stdout",
     "output_type": "stream",
     "text": [
      "chd\n",
      "[ 2.  1.  7.  9. nan]\n",
      "sex\n",
      "[2. 1.]\n",
      "ever_married\n",
      "[1. 2. 3. 6. 5. 4. 9.]\n",
      "diabetes\n",
      "[ 3.  1.  4.  2.  7. nan  9.]\n",
      "hypertension\n",
      "[ 1.  3.  7.  2.  4.  9. nan]\n",
      "vegetable\n",
      "[1. 2. 9.]\n",
      "fruit\n",
      "[2. 9. 1.]\n",
      "exercise\n",
      "[ 2.  1. nan  9.  7.]\n",
      "Binary variables that need to be recoded: ['chd', 'ever_married', 'diabetes', 'hypertension', 'vegetable', 'fruit', 'exercise']\n"
     ]
    }
   ],
   "source": [
    "# Check unique codes of binary variables and print out \n",
    "# Collect binary variables need to be recoded \n",
    "binary_var = ['chd', 'sex', 'ever_married', 'diabetes', 'hypertension', 'vegetable', 'fruit', 'exercise']\n",
    "recode_binary_var = []\n",
    "for var in binary_var: \n",
    "    print(var)\n",
    "    print(dirty_df[var].unique())\n",
    "    if len(dirty_df[var].unique())>2: \n",
    "        recode_binary_var.append(var)\n",
    "print(f\"Binary variables that need to be recoded: {recode_binary_var}\")"
   ]
  },
  {
   "cell_type": "code",
   "execution_count": null,
   "metadata": {},
   "outputs": [],
   "source": [
    "\"\"\"\n",
    "Recode instructions \n",
    "Codes for 'hypertension' and 'diabetes'\n",
    " '1': \"Yes\"\n",
    " '2': '\"Yes, but female told only during pregnancy\"' -> np.nan\n",
    " '3': '\"No\"' -> '0'\n",
    " '4': '\"Told borderline high or pre-condition\"' -> np.nan\n",
    " '7': '\"Don't know/Not Sure\"' -> np.nan\n",
    " '9': '\"Refused\"' --> np.nan\n",
    "\"\"\"\n",
    "# Recode variables ['hypertension', 'diabetes'] into binary variables\n",
    "vars = ['hypertension', 'diabetes']\n",
    "for col in vars: \n",
    "    dirty_df[col]= dirty_df[col].replace({2.: np.nan, 3.: 0,  4.: np.nan, \n",
    "                                          7.: np.nan, 9.: np.nan})\n",
    "\n",
    "\"\"\"\n",
    "Codes for 'vegetable' and 'fruit'\n",
    " '1': '\"Consumed one or more times per day\"' \n",
    " '2': '\"Consumed less than one time per day\"' -> 0\n",
    " '9': '\"Don´t know, refused or missing values\" -> np.nan\n",
    "\n",
    "Codes for 'exercise' and 'chd'\n",
    " '1': '\"Yes\"'\n",
    " '2': '\"No\"' -> 0\n",
    " '7': '\"Don't know/Not sure\"'-> np.nan\n",
    " '9': '\"Refused\"' -> np.nan\n",
    "\n",
    "\n",
    "\"\"\"\n",
    "# Recode variables ['vegetable', 'fruit', 'exercise'] into binary variables\n",
    "vars = ['chd', 'vegetable', 'fruit', 'exercise']\n",
    "for col in vars: \n",
    "    dirty_df[col]= dirty_df[col].replace({2.: 0, 7.: np.nan, 9.: np.nan})\n",
    "\n",
    "\n",
    "\"\"\"\n",
    "Codes for 'ever_married'\n",
    " '1': '\"Married\"' -> 1\n",
    " '2': '\"Divorced\"' -> 1\n",
    " '3': '\"Widowed\"' -> 1\n",
    " '4': '\"Separated\"' -> 1\n",
    " '5': '\"Never married\"' -> 0\n",
    " '6': '\"A member of an unmarried couple\"' -> 0\n",
    " '9': '\"Refused\"' -> np.nan\n",
    "\"\"\"\n",
    "\n",
    "# Recode 'ever_married' as binary variable (0 = No, 1 = Yes)\n",
    "\n",
    "dirty_df['ever_married'] = dirty_df['ever_married'].replace({1.: 1, 2.: 1, 3.: 1, 4.: 1, \n",
    "                                                             5.: 0, 6.: 0, \n",
    "                                                             9.: np.nan})\n",
    "\n",
    "\n",
    "\"\"\"\n",
    "Codes for 'age5y'\n",
    " '1': '\"Age 18 to 24\"',\n",
    " '2': '\"Age 25 to 29\"',\n",
    " '3': '\"Age 30 to 34\"',\n",
    " '4': '\"Age 35 to 39\"',\n",
    " '5': '\"Age 40 to 44\"',\n",
    " '6': '\"Age 45 to 49\"',\n",
    " '7': '\"Age 50 to 54\"',\n",
    " '8': '\"Age 55 to 59\"',\n",
    " '9': '\"Age 60 to 64\"',\n",
    " '10': '\"Age 65 to 69\"',\n",
    " '11': '\"Age 70 to 74\"',\n",
    " '12': '\"Age 75 to 79\"',\n",
    " '13': '\"Age 80 or older\"',\n",
    " '14': '\"Don't know/Refused/Missing\" -> np.nan\n",
    "\"\"\"\n",
    "dirty_df['age5y'] = dirty_df['age5y'].replace({14.: np.nan})\n",
    "\n",
    "\"\"\"\n",
    "Codes for 'education'\n",
    " '1': '\"Did not graduate High School\"',\n",
    " '2': '\"Graduated High School\"',\n",
    " '3': '\"Attended College or Technical School\"',\n",
    " '4': '\"Graduated from College or Technical School\"',\n",
    " '9': '\"Don't know/Not sure/Missing\"-> np.nan\n",
    "\n",
    "Codes for 'income'\n",
    " '1': '\"Less than $15,000\"',\n",
    " '2': '\"$15,000 to less than $25,000\"',\n",
    " '3': '\"$25,000 to less than $35,000\"',\n",
    " '4': '\"$35,000 to less than $50,000\"',\n",
    " '5': '\"$50,000 or more\"',\n",
    " '9': '\"Don't know/Not sure/Missing\"'-> np.nan\n",
    "\"\"\"\n",
    "vars = ['education', 'income']\n",
    "for col in vars: \n",
    "    dirty_df[col]= dirty_df[col].replace({9.: np.nan})\n",
    "\n",
    "\"\"\"\" \n",
    "Codes for 'employment':\n",
    " '1': '\"Employed for wages\"'\n",
    " '2': '\"Self-employed\"'\n",
    " '3': '\"Out of work for 1 year or more\"'\n",
    " '4': '\"Out of work for less than 1 year\"'\n",
    " '5': '\"A homemaker\"'\n",
    " '6': '\"A student\"'\n",
    " '7': '\"Retired\"'\n",
    " '8': '\"Unable to work\"' -> np.nan (exclude since those unable to work)\n",
    " '9': '\"Refused\"' -> np.nan\n",
    "\n",
    " Note: Those unable to work are excluded since there is a high possibility that they may have other health conditions. \n",
    "\"\"\"\n",
    "\n",
    "dirty_df['employment'] = dirty_df['employment'].replace({8.:np.nan, 9.: np.nan})\n",
    "\n",
    "\"\"\"\n",
    "Codes for 'smoke':\n",
    " '1': '\"Current smoker - now smokes every day\"',\n",
    " '2': '\"Current smoker - now smokes some days\"' --> '1'\n",
    " '3': '\"Former smoker\"', -> '2'\n",
    " '4': '\"Never smoked\"', --> '0'\n",
    " '9': '\"Don't know/Refused/Missing\"' -> np.nan\n",
    "\"\"\"\n",
    "# Recode 'smoke' into 3 catagories (1 = current smoker, 2 = never smoked, 3 = former smoker)\n",
    "\n",
    "dirty_df['smoke'] = dirty_df['smoke'].replace({2.:1, 3.: 2, 4.: 0, 9.: np.nan})\n"
   ]
  },
  {
   "cell_type": "markdown",
   "metadata": {},
   "source": [
    "#### - Verify that variables are correctly recoded"
   ]
  },
  {
   "cell_type": "code",
   "execution_count": null,
   "metadata": {},
   "outputs": [
    {
     "name": "stdout",
     "output_type": "stream",
     "text": [
      "CVDCRHD4    1.0     2.0\n",
      "chd                    \n",
      "0.0           0  371378\n",
      "1.0       23624       0\n",
      "SEX     1.0     2.0\n",
      "sex                \n",
      "1.0  177417       0\n",
      "2.0       0  220920\n",
      "_RACE_G1     1.0    2.0    3.0    4.0   5.0\n",
      "race                                       \n",
      "1.0       306085      0      0      0     0\n",
      "2.0            0  30852      0      0     0\n",
      "3.0            0      0  31021      0     0\n",
      "4.0            0      0      0  17391     0\n",
      "5.0            0      0      0      0  7485\n",
      "_AGEG5YR   1.0    2.0    3.0    4.0    5.0    6.0    7.0    8.0    9.0   \\\n",
      "age5y                                                                     \n",
      "1.0       21182      0      0      0      0      0      0      0      0   \n",
      "2.0           0  17360      0      0      0      0      0      0      0   \n",
      "3.0           0      0  20168      0      0      0      0      0      0   \n",
      "4.0           0      0      0  21986      0      0      0      0      0   \n",
      "5.0           0      0      0      0  23524      0      0      0      0   \n",
      "6.0           0      0      0      0      0  27633      0      0      0   \n",
      "7.0           0      0      0      0      0      0  36328      0      0   \n",
      "8.0           0      0      0      0      0      0      0  42083      0   \n",
      "9.0           0      0      0      0      0      0      0      0  45501   \n",
      "10.0          0      0      0      0      0      0      0      0      0   \n",
      "11.0          0      0      0      0      0      0      0      0      0   \n",
      "12.0          0      0      0      0      0      0      0      0      0   \n",
      "13.0          0      0      0      0      0      0      0      0      0   \n",
      "\n",
      "_AGEG5YR   10.0   11.0   12.0   13.0  \n",
      "age5y                                 \n",
      "1.0           0      0      0      0  \n",
      "2.0           0      0      0      0  \n",
      "3.0           0      0      0      0  \n",
      "4.0           0      0      0      0  \n",
      "5.0           0      0      0      0  \n",
      "6.0           0      0      0      0  \n",
      "7.0           0      0      0      0  \n",
      "8.0           0      0      0      0  \n",
      "9.0           0      0      0      0  \n",
      "10.0      45179      0      0      0  \n",
      "11.0          0  35270      0      0  \n",
      "12.0          0      0  26041      0  \n",
      "13.0          0      0      0  33583  \n",
      "MARITAL          1.0    2.0    3.0   4.0    5.0    6.0\n",
      "ever_married                                          \n",
      "0.0                0      0      0     0  60427  11320\n",
      "1.0           211518  54390  50980  8037      0      0\n",
      "_EDUCAG      1.0     2.0     3.0     4.0\n",
      "education                               \n",
      "1.0        29781       0       0       0\n",
      "2.0            0  110771       0       0\n",
      "3.0            0       0  109006       0\n",
      "4.0            0       0       0  147905\n",
      "_INCOMG    1.0    2.0    3.0    4.0     5.0\n",
      "income                                     \n",
      "1.0      34493      0      0      0       0\n",
      "2.0          0  54367      0      0       0\n",
      "3.0          0      0  36537      0       0\n",
      "4.0          0      0      0  48736       0\n",
      "5.0          0      0      0      0  163847\n",
      "EMPLOY1        1.0    2.0   3.0   4.0    5.0    6.0     7.0\n",
      "employment                                                 \n",
      "1.0         162109      0     0     0      0      0       0\n",
      "2.0              0  33830     0     0      0      0       0\n",
      "3.0              0      0  8553     0      0      0       0\n",
      "4.0              0      0     0  8094      0      0       0\n",
      "5.0              0      0     0     0  22963      0       0\n",
      "6.0              0      0     0     0      0  10261       0\n",
      "7.0              0      0     0     0      0      0  121612\n",
      "DIABETE3    1.0     3.0\n",
      "diabetes               \n",
      "0.0           0  335188\n",
      "1.0       52421       0\n",
      "BPHIGH4          1.0     3.0\n",
      "hypertension                \n",
      "0.0                0  227672\n",
      "1.0           162888       0\n",
      "_SMOKER3    1.0    2.0     3.0     4.0\n",
      "smoke                                 \n",
      "0.0           0      0       0  218029\n",
      "1.0       40371  16682       0       0\n",
      "2.0           0      0  114099       0\n",
      "_VEGLT1       1.0    2.0\n",
      "vegetable               \n",
      "0.0             0  74590\n",
      "1.0        286393      0\n",
      "_FRTLT1     1.0     2.0\n",
      "fruit                  \n",
      "0.0           0  139105\n",
      "1.0      228324       0\n",
      "EXERANY2     1.0    2.0\n",
      "exercise               \n",
      "0.0            0  97507\n",
      "1.0       274475      0\n"
     ]
    }
   ],
   "source": [
    "# Check all levels are correctly assigned to new levels\n",
    "\n",
    "for key, code in varname_code_mapping.items(): \n",
    "    if key not in numerical_variables: \n",
    "        print(pd.crosstab(dirty_df[key],df2015[code]))"
   ]
  },
  {
   "cell_type": "code",
   "execution_count": null,
   "metadata": {},
   "outputs": [
    {
     "name": "stdout",
     "output_type": "stream",
     "text": [
      "<class 'pandas.core.frame.DataFrame'>\n",
      "Index: 146381 entries, 6 to 441450\n",
      "Data columns (total 16 columns):\n",
      " #   Column        Non-Null Count   Dtype  \n",
      "---  ------        --------------   -----  \n",
      " 0   chd           146381 non-null  float64\n",
      " 1   sex           146381 non-null  float64\n",
      " 2   race          146381 non-null  float64\n",
      " 3   age5y         146381 non-null  float64\n",
      " 4   ever_married  146381 non-null  float64\n",
      " 5   education     146381 non-null  float64\n",
      " 6   income        146381 non-null  float64\n",
      " 7   employment    146381 non-null  float64\n",
      " 8   diabetes      146381 non-null  float64\n",
      " 9   hypertension  146381 non-null  float64\n",
      " 10  bmi           146381 non-null  float64\n",
      " 11  smoke         146381 non-null  float64\n",
      " 12  vegetable     146381 non-null  float64\n",
      " 13  fruit         146381 non-null  float64\n",
      " 14  binge_drink   146381 non-null  float64\n",
      " 15  exercise      146381 non-null  float64\n",
      "dtypes: float64(16)\n",
      "memory usage: 19.0 MB\n"
     ]
    }
   ],
   "source": [
    "# Save cleaned data \n",
    "clean_df = dirty_df.dropna()\n",
    "clean_df.info()\n"
   ]
  },
  {
   "cell_type": "code",
   "execution_count": null,
   "metadata": {},
   "outputs": [
    {
     "data": {
      "image/png": "[encoded data removed]",
      "text/plain": [
       "<Figure size 640x480 with 1 Axes>"
      ]
     },
     "metadata": {},
     "output_type": "display_data"
    }
   ],
   "source": [
    "target_count= clean_df.chd.value_counts()\n",
    "target_count.plot(kind='bar', title='Count (target)')\n",
    "for i, count in enumerate(target_count):\n",
    "    plt.annotate(str(count), xy=(i, count), ha='center', va='bottom')\n",
    "\n",
    "plt.show()"
   ]
  },
  {
   "cell_type": "code",
   "execution_count": null,
   "metadata": {},
   "outputs": [],
   "source": [
    "clean_df.to_csv('cleaned_data_imbalanced.csv', index=False)"
   ]
  },
  {
   "cell_type": "code",
   "execution_count": 20,
   "metadata": {},
   "outputs": [
    {
     "ename": "ImportError",
     "evalue": "cannot import name 'display' from 'IPython.core.display' (/Users/Daphne/Library/Python/3.11/lib/python/site-packages/IPython/core/display.py)",
     "output_type": "error",
     "traceback": [
      "\u001b[31m---------------------------------------------------------------------------\u001b[39m",
      "\u001b[31mImportError\u001b[39m                               Traceback (most recent call last)",
      "\u001b[36mCell\u001b[39m\u001b[36m \u001b[39m\u001b[32mIn[20]\u001b[39m\u001b[32m, line 2\u001b[39m\n\u001b[32m      1\u001b[39m \u001b[38;5;66;03m# ydata-profiling report of dirty data file\u001b[39;00m\n\u001b[32m----> \u001b[39m\u001b[32m2\u001b[39m \u001b[38;5;28;01mfrom\u001b[39;00m\u001b[38;5;250m \u001b[39m\u001b[34;01mIPython\u001b[39;00m\u001b[34;01m.\u001b[39;00m\u001b[34;01mcore\u001b[39;00m\u001b[34;01m.\u001b[39;00m\u001b[34;01mdisplay\u001b[39;00m\u001b[38;5;250m \u001b[39m\u001b[38;5;28;01mimport\u001b[39;00m display\n\u001b[32m      3\u001b[39m profile = ProfileReport(clean_df, title = \u001b[33m\"\u001b[39m\u001b[33mProfile Report\u001b[39m\u001b[33m\"\u001b[39m)\n\u001b[32m      4\u001b[39m profile.to_widgets()\n",
      "\u001b[31mImportError\u001b[39m: cannot import name 'display' from 'IPython.core.display' (/Users/Daphne/Library/Python/3.11/lib/python/site-packages/IPython/core/display.py)"
     ]
    }
   ],
   "source": [
    "# ydata-profiling report of dirty data file\n",
    "from IPython.core.display import display\n",
    "profile = ProfileReport(clean_df, title = \"Profile Report\")\n",
    "profile.to_widgets()"
   ]
  },
  {
   "cell_type": "markdown",
   "metadata": {},
   "source": [
    "## (Optional) Random downsampling\n",
    "\n",
    "Imbalance of data is observed in the between those diagnosed with angina or coronary heart disease (`chd`=1) and those who were not (`chd`=0). Random sampling was done to balance the number of samples in two groups. "
   ]
  },
  {
   "cell_type": "code",
   "execution_count": null,
   "metadata": {},
   "outputs": [],
   "source": [
    "# Class count\n",
    "count_class_0, count_class_1 = clean_df.chd.value_counts()\n",
    "\n",
    "# Divide by class\n",
    "df_chd0 = clean_df[clean_df['chd'] == 0.]\n",
    "df_chd1 = clean_df[clean_df['chd'] == 1.]\n",
    "\n",
    "# Under sampling\n",
    "df_chd0_under = df_chd0.sample(count_class_1)\n",
    "cleandf_undersample = pd.concat([df_chd0_under, df_chd1], axis=0)\n",
    "\n",
    "cleandf_undersample.chd.value_counts().plot(kind='bar', title='Count (target)')\n",
    "for i, count in enumerate(cleandf_undersample.chd.value_counts()):\n",
    "    plt.annotate(str(count), xy=(i, count), ha='center', va='bottom')\n",
    "plt.show()\n"
   ]
  },
  {
   "cell_type": "code",
   "execution_count": null,
   "metadata": {},
   "outputs": [],
   "source": [
    "for var in varname_code_mapping.keys(): \n",
    "    if var not in numerical_variables:\n",
    "        print(pd.crosstab(cleandf_undersample['chd'],cleandf_undersample[var]))\n"
   ]
  },
  {
   "cell_type": "code",
   "execution_count": null,
   "metadata": {},
   "outputs": [],
   "source": [
    "# ydata-profiling report of clean & downsampled data file\n",
    "profile = ProfileReport(cleandf_undersample, title = \"Profile Report\")\n",
    "profile.to_widgets()"
   ]
  },
  {
   "cell_type": "code",
   "execution_count": null,
   "metadata": {},
   "outputs": [],
   "source": [
    "cleandf_undersample.to_csv('cleaned_data.csv')"
   ]
  }
 ],
 "metadata": {
  "kernelspec": {
   "display_name": "Python 3",
   "language": "python",
   "name": "python3"
  },
  "language_info": {
   "codemirror_mode": {
    "name": "ipython",
    "version": 3
   },
   "file_extension": ".py",
   "mimetype": "text/x-python",
   "name": "python",
   "nbconvert_exporter": "python",
   "pygments_lexer": "ipython3",
   "version": "3.11.9"
  },
  "orig_nbformat": 4
 },
 "nbformat": 4,
 "nbformat_minor": 2
}
